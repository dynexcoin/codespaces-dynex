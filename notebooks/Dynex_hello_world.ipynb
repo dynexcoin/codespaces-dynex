{
 "cells": [
  {
   "cell_type": "markdown",
   "id": "dab9797a-d695-430d-9345-801697b584db",
   "metadata": {},
   "source": [
    "# Dynex SDK - Hello World"
   ]
  },
  {
   "cell_type": "markdown",
   "id": "b2f46fd5-8c1f-4d20-835d-dc08787b5e1d",
   "metadata": {},
   "source": [
    "First, we need to install the requirements:"
   ]
  },
  {
   "cell_type": "code",
   "execution_count": null,
   "id": "a49802e4-2b5b-4046-b69b-e0b33cfbc2c4",
   "metadata": {},
   "outputs": [],
   "source": [
    "!pip install dynex\n",
    "!pip install pyqubo"
   ]
  },
  {
   "cell_type": "markdown",
   "id": "7666de4a-4511-4ae5-b932-de0e76a832be",
   "metadata": {},
   "source": [
    "With the requirements installed, we import the required packages:"
   ]
  },
  {
   "cell_type": "code",
   "execution_count": null,
   "id": "ce9c9138-5168-49a6-953b-69dd0c2cd297",
   "metadata": {},
   "outputs": [],
   "source": [
    "import dynex\n",
    "import dimod\n",
    "from pyqubo import Array"
   ]
  },
  {
   "cell_type": "markdown",
   "id": "e3d50bf1-174a-49a2-8e4a-4b38d755e3b9",
   "metadata": {},
   "source": [
    "## Verify Version of Dynex SDK"
   ]
  },
  {
   "cell_type": "markdown",
   "id": "2ec7e04b-1f7c-4306-81d6-0905a44664c2",
   "metadata": {},
   "source": [
    "The following function displays the version of the installed Dynex SDK:"
   ]
  },
  {
   "cell_type": "code",
   "execution_count": null,
   "id": "cf95e0fb-fd5e-42ef-a802-eaf70fb5eee7",
   "metadata": {},
   "outputs": [],
   "source": [
    "dynex.__version__"
   ]
  },
  {
   "cell_type": "markdown",
   "id": "bc8795b4-bfd8-486e-b2e0-d98785b2aa49",
   "metadata": {},
   "source": [
    "## Configure the Dynex SDK and test the onfiguration"
   ]
  },
  {
   "cell_type": "markdown",
   "id": "2e763f4f-d24f-4ca7-93a3-cdab70950a0a",
   "metadata": {},
   "source": [
    "Open the file 'dynex.ini' and modify the settings you have received during signup. Then run the test() function. Note that a successful run is required to start sampling with the Dynex SDK"
   ]
  },
  {
   "cell_type": "code",
   "execution_count": null,
   "id": "442e7b70-7213-430c-82ef-5b165d1f382a",
   "metadata": {},
   "outputs": [],
   "source": [
    "dynex.test()"
   ]
  },
  {
   "cell_type": "markdown",
   "id": "fced7cc0-66eb-4269-b7b4-b284516dcb3e",
   "metadata": {},
   "source": [
    "## View your API acccount"
   ]
  },
  {
   "cell_type": "markdown",
   "id": "daa365ad-fca3-4c43-b45a-be24835dc327",
   "metadata": {},
   "source": [
    "The function 'account_status()' provides you with an overview of your usage and limits:"
   ]
  },
  {
   "cell_type": "code",
   "execution_count": null,
   "id": "31e09dcd-a9bb-4d7a-80e0-f343faa3f3d1",
   "metadata": {},
   "outputs": [],
   "source": [
    "dynex.account_status()"
   ]
  },
  {
   "cell_type": "markdown",
   "id": "1e49bfb6-7181-46e1-85a2-af8c051d9139",
   "metadata": {},
   "source": [
    "## Create a simple QUBO formulation"
   ]
  },
  {
   "cell_type": "markdown",
   "id": "9658e157-a406-4dd8-a132-02c013208b5a",
   "metadata": {},
   "source": [
    "We will test computing on the Dynex Neuromorphic Platform by solving a simple QUBO problem:"
   ]
  },
  {
   "cell_type": "code",
   "execution_count": null,
   "id": "aebae30f-3fd8-4f3a-9cd2-bbc9281be89a",
   "metadata": {},
   "outputs": [],
   "source": [
    "N = 15\n",
    "K = 3\n",
    "numbers = [4.8097315016016315, 4.325157567810298, 2.9877429101815127,\n",
    "           3.199880179616316, 0.5787939511978596, 1.2520928214246918,\n",
    "           2.262867466401502, 1.2300003067401255, 2.1601079352817925,\n",
    "           3.63753899583021, 4.598232793833491, 2.6215815162575646,\n",
    "           3.4227134835783364, 0.28254151584552023, 4.2548151473817075]\n",
    "\n",
    "q = Array.create('q', N, 'BINARY')\n",
    "H = sum(numbers[i] * q[i] for i in range(N)) + 5.0 * (sum(q) - K)**2\n",
    "model = H.compile()\n",
    "Q, offset = model.to_qubo(index_label=True)"
   ]
  },
  {
   "cell_type": "code",
   "execution_count": null,
   "id": "d3f7fb3c-69f0-4078-92d7-1910533744b0",
   "metadata": {},
   "outputs": [],
   "source": [
    "# BQM from QUBO:\n",
    "bqm = dimod.BinaryQuadraticModel.from_qubo(Q, offset)"
   ]
  },
  {
   "cell_type": "markdown",
   "id": "d82490d8-17f9-47c5-a0a2-84bcc6611939",
   "metadata": {},
   "source": [
    "## Sample on Dynex"
   ]
  },
  {
   "cell_type": "code",
   "execution_count": null,
   "id": "9c390424-e2ed-4c12-8d3c-12ce9a86d4af",
   "metadata": {},
   "outputs": [],
   "source": [
    "model = dynex.BQM(bqm);\n",
    "sampler = dynex.DynexSampler(model,  mainnet=True, description='Dynex SDK test');\n",
    "sampleset = sampler.sample(num_reads=5000, annealing_time = 200, debugging=False);\n",
    "print('Result:')\n",
    "print(sampleset)"
   ]
  },
  {
   "cell_type": "code",
   "execution_count": null,
   "id": "d9e4bd64-daef-4306-a86c-7dd51b339ac2",
   "metadata": {},
   "outputs": [],
   "source": []
  }
 ],
 "metadata": {
  "kernelspec": {
   "display_name": "Python 3",
   "language": "python",
   "name": "python3"
  },
  "language_info": {
   "codemirror_mode": {
    "name": "ipython",
    "version": 3
   },
   "file_extension": ".py",
   "mimetype": "text/x-python",
   "name": "python",
   "nbconvert_exporter": "python",
   "pygments_lexer": "ipython3",
   "version": "3.8.8"
  }
 },
 "nbformat": 4,
 "nbformat_minor": 5
}
